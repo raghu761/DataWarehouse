{
 "cells": [
  {
   "cell_type": "code",
   "execution_count": 3,
   "metadata": {},
   "outputs": [],
   "source": [
    "import os\n",
    "import pandas as pd\n",
    "import numpy as np\n",
    "import matplotlib.pyplot as plt\n",
    "import csv\n",
    "import pyfpgrowth\n",
    "from mlxtend.frequent_patterns import apriori \n",
    "from mlxtend.frequent_patterns import association_rules"
   ]
  },
  {
   "cell_type": "code",
   "execution_count": 5,
   "metadata": {},
   "outputs": [
    {
     "data": {
      "text/plain": [
       "Coffee            5471\n",
       "Bread             3325\n",
       "Tea               1435\n",
       "Cake              1025\n",
       "Pastry             856\n",
       "                  ... \n",
       "Olum & polenta       1\n",
       "The BART             1\n",
       "Polenta              1\n",
       "Adjustment           1\n",
       "Gift voucher         1\n",
       "Name: Item, Length: 95, dtype: int64"
      ]
     },
     "execution_count": 5,
     "metadata": {},
     "output_type": "execute_result"
    }
   ],
   "source": [
    "bakery=pd.read_csv('BreadBasket_DMS.csv')\n",
    "bakery['Item'].value_counts()"
   ]
  },
  {
   "cell_type": "code",
   "execution_count": 6,
   "metadata": {},
   "outputs": [
    {
     "data": {
      "text/plain": [
       "(21293, 4)"
      ]
     },
     "execution_count": 6,
     "metadata": {},
     "output_type": "execute_result"
    }
   ],
   "source": [
    "bakery.shape"
   ]
  },
  {
   "cell_type": "code",
   "execution_count": 7,
   "metadata": {},
   "outputs": [
    {
     "data": {
      "text/html": [
       "<div>\n",
       "<style scoped>\n",
       "    .dataframe tbody tr th:only-of-type {\n",
       "        vertical-align: middle;\n",
       "    }\n",
       "\n",
       "    .dataframe tbody tr th {\n",
       "        vertical-align: top;\n",
       "    }\n",
       "\n",
       "    .dataframe thead th {\n",
       "        text-align: right;\n",
       "    }\n",
       "</style>\n",
       "<table border=\"1\" class=\"dataframe\">\n",
       "  <thead>\n",
       "    <tr style=\"text-align: right;\">\n",
       "      <th></th>\n",
       "      <th>Date</th>\n",
       "      <th>Time</th>\n",
       "      <th>Transaction</th>\n",
       "      <th>Item</th>\n",
       "    </tr>\n",
       "  </thead>\n",
       "  <tbody>\n",
       "    <tr>\n",
       "      <th>0</th>\n",
       "      <td>2016-10-30</td>\n",
       "      <td>09:58:11</td>\n",
       "      <td>1</td>\n",
       "      <td>Bread</td>\n",
       "    </tr>\n",
       "    <tr>\n",
       "      <th>1</th>\n",
       "      <td>2016-10-30</td>\n",
       "      <td>10:05:34</td>\n",
       "      <td>2</td>\n",
       "      <td>Scandinavian</td>\n",
       "    </tr>\n",
       "    <tr>\n",
       "      <th>2</th>\n",
       "      <td>2016-10-30</td>\n",
       "      <td>10:05:34</td>\n",
       "      <td>2</td>\n",
       "      <td>Scandinavian</td>\n",
       "    </tr>\n",
       "    <tr>\n",
       "      <th>3</th>\n",
       "      <td>2016-10-30</td>\n",
       "      <td>10:07:57</td>\n",
       "      <td>3</td>\n",
       "      <td>Hot chocolate</td>\n",
       "    </tr>\n",
       "    <tr>\n",
       "      <th>4</th>\n",
       "      <td>2016-10-30</td>\n",
       "      <td>10:07:57</td>\n",
       "      <td>3</td>\n",
       "      <td>Jam</td>\n",
       "    </tr>\n",
       "  </tbody>\n",
       "</table>\n",
       "</div>"
      ],
      "text/plain": [
       "         Date      Time  Transaction           Item\n",
       "0  2016-10-30  09:58:11            1          Bread\n",
       "1  2016-10-30  10:05:34            2   Scandinavian\n",
       "2  2016-10-30  10:05:34            2   Scandinavian\n",
       "3  2016-10-30  10:07:57            3  Hot chocolate\n",
       "4  2016-10-30  10:07:57            3            Jam"
      ]
     },
     "execution_count": 7,
     "metadata": {},
     "output_type": "execute_result"
    }
   ],
   "source": [
    "bakery.head()"
   ]
  },
  {
   "cell_type": "code",
   "execution_count": 5,
   "metadata": {},
   "outputs": [],
   "source": [
    "Items={}\n",
    "cnt=0\n",
    "for item in bakery['Item']:\n",
    "    if item in Items:\n",
    "        Items[item]=Items[item]+1\n",
    "    else:\n",
    "        Items[item]=1\n",
    "        cnt+=1"
   ]
  },
  {
   "cell_type": "code",
   "execution_count": 6,
   "metadata": {},
   "outputs": [
    {
     "data": {
      "text/plain": [
       "47"
      ]
     },
     "execution_count": 6,
     "metadata": {},
     "output_type": "execute_result"
    }
   ],
   "source": [
    "#min_support 50% so\n",
    "min_support=0.5\n",
    "support_cnt=0.5*cnt\n",
    "support_cnt=int(support_cnt)\n",
    "support_cnt"
   ]
  },
  {
   "cell_type": "code",
   "execution_count": 9,
   "metadata": {},
   "outputs": [],
   "source": [
    "bakery['Set_bit']= 1"
   ]
  },
  {
   "cell_type": "code",
   "execution_count": 10,
   "metadata": {},
   "outputs": [
    {
     "data": {
      "text/html": [
       "<div>\n",
       "<style scoped>\n",
       "    .dataframe tbody tr th:only-of-type {\n",
       "        vertical-align: middle;\n",
       "    }\n",
       "\n",
       "    .dataframe tbody tr th {\n",
       "        vertical-align: top;\n",
       "    }\n",
       "\n",
       "    .dataframe thead th {\n",
       "        text-align: right;\n",
       "    }\n",
       "</style>\n",
       "<table border=\"1\" class=\"dataframe\">\n",
       "  <thead>\n",
       "    <tr style=\"text-align: right;\">\n",
       "      <th></th>\n",
       "      <th>Date</th>\n",
       "      <th>Time</th>\n",
       "      <th>Transaction</th>\n",
       "      <th>Item</th>\n",
       "      <th>Set_bit</th>\n",
       "    </tr>\n",
       "  </thead>\n",
       "  <tbody>\n",
       "    <tr>\n",
       "      <th>0</th>\n",
       "      <td>2016-10-30</td>\n",
       "      <td>09:58:11</td>\n",
       "      <td>1</td>\n",
       "      <td>Bread</td>\n",
       "      <td>1</td>\n",
       "    </tr>\n",
       "    <tr>\n",
       "      <th>1</th>\n",
       "      <td>2016-10-30</td>\n",
       "      <td>10:05:34</td>\n",
       "      <td>2</td>\n",
       "      <td>Scandinavian</td>\n",
       "      <td>1</td>\n",
       "    </tr>\n",
       "    <tr>\n",
       "      <th>2</th>\n",
       "      <td>2016-10-30</td>\n",
       "      <td>10:05:34</td>\n",
       "      <td>2</td>\n",
       "      <td>Scandinavian</td>\n",
       "      <td>1</td>\n",
       "    </tr>\n",
       "    <tr>\n",
       "      <th>3</th>\n",
       "      <td>2016-10-30</td>\n",
       "      <td>10:07:57</td>\n",
       "      <td>3</td>\n",
       "      <td>Hot chocolate</td>\n",
       "      <td>1</td>\n",
       "    </tr>\n",
       "    <tr>\n",
       "      <th>4</th>\n",
       "      <td>2016-10-30</td>\n",
       "      <td>10:07:57</td>\n",
       "      <td>3</td>\n",
       "      <td>Jam</td>\n",
       "      <td>1</td>\n",
       "    </tr>\n",
       "  </tbody>\n",
       "</table>\n",
       "</div>"
      ],
      "text/plain": [
       "         Date      Time  Transaction           Item  Set_bit\n",
       "0  2016-10-30  09:58:11            1          Bread        1\n",
       "1  2016-10-30  10:05:34            2   Scandinavian        1\n",
       "2  2016-10-30  10:05:34            2   Scandinavian        1\n",
       "3  2016-10-30  10:07:57            3  Hot chocolate        1\n",
       "4  2016-10-30  10:07:57            3            Jam        1"
      ]
     },
     "execution_count": 10,
     "metadata": {},
     "output_type": "execute_result"
    }
   ],
   "source": [
    "bakery.head()"
   ]
  },
  {
   "cell_type": "code",
   "execution_count": 14,
   "metadata": {},
   "outputs": [
    {
     "name": "stdout",
     "output_type": "stream",
     "text": [
      "Item         Adjustment  Afternoon with the baker  Alfajores  Argentina Night  \\\n",
      "Transaction                                                                     \n",
      "1                   0.0                       0.0        0.0              0.0   \n",
      "2                   0.0                       0.0        0.0              0.0   \n",
      "3                   0.0                       0.0        0.0              0.0   \n",
      "4                   0.0                       0.0        0.0              0.0   \n",
      "5                   0.0                       0.0        0.0              0.0   \n",
      "...                 ...                       ...        ...              ...   \n",
      "9680                0.0                       0.0        0.0              0.0   \n",
      "9681                0.0                       0.0        0.0              0.0   \n",
      "9682                0.0                       0.0        0.0              0.0   \n",
      "9683                0.0                       0.0        0.0              0.0   \n",
      "9684                0.0                       0.0        0.0              0.0   \n",
      "\n",
      "Item         Art Tray  Bacon  Baguette  Bakewell  Bare Popcorn  Basket  ...  \\\n",
      "Transaction                                                             ...   \n",
      "1                 0.0    0.0       0.0       0.0           0.0     0.0  ...   \n",
      "2                 0.0    0.0       0.0       0.0           0.0     0.0  ...   \n",
      "3                 0.0    0.0       0.0       0.0           0.0     0.0  ...   \n",
      "4                 0.0    0.0       0.0       0.0           0.0     0.0  ...   \n",
      "5                 0.0    0.0       0.0       0.0           0.0     0.0  ...   \n",
      "...               ...    ...       ...       ...           ...     ...  ...   \n",
      "9680              0.0    0.0       0.0       0.0           0.0     0.0  ...   \n",
      "9681              0.0    0.0       0.0       0.0           0.0     0.0  ...   \n",
      "9682              0.0    0.0       0.0       0.0           0.0     0.0  ...   \n",
      "9683              0.0    0.0       0.0       0.0           0.0     0.0  ...   \n",
      "9684              0.0    0.0       0.0       0.0           0.0     0.0  ...   \n",
      "\n",
      "Item         The BART  The Nomad  Tiffin  Toast  Truffles  Tshirt  \\\n",
      "Transaction                                                         \n",
      "1                 0.0        0.0     0.0    0.0       0.0     0.0   \n",
      "2                 0.0        0.0     0.0    0.0       0.0     0.0   \n",
      "3                 0.0        0.0     0.0    0.0       0.0     0.0   \n",
      "4                 0.0        0.0     0.0    0.0       0.0     0.0   \n",
      "5                 0.0        0.0     0.0    0.0       0.0     0.0   \n",
      "...               ...        ...     ...    ...       ...     ...   \n",
      "9680              0.0        0.0     0.0    0.0       0.0     0.0   \n",
      "9681              0.0        0.0     0.0    0.0       1.0     0.0   \n",
      "9682              0.0        0.0     0.0    0.0       0.0     0.0   \n",
      "9683              0.0        0.0     0.0    0.0       0.0     0.0   \n",
      "9684              0.0        0.0     0.0    0.0       0.0     0.0   \n",
      "\n",
      "Item         Valentine's card  Vegan Feast  Vegan mincepie  Victorian Sponge  \n",
      "Transaction                                                                   \n",
      "1                         0.0          0.0             0.0               0.0  \n",
      "2                         0.0          0.0             0.0               0.0  \n",
      "3                         0.0          0.0             0.0               0.0  \n",
      "4                         0.0          0.0             0.0               0.0  \n",
      "5                         0.0          0.0             0.0               0.0  \n",
      "...                       ...          ...             ...               ...  \n",
      "9680                      0.0          0.0             0.0               0.0  \n",
      "9681                      0.0          0.0             0.0               0.0  \n",
      "9682                      0.0          0.0             0.0               0.0  \n",
      "9683                      0.0          0.0             0.0               0.0  \n",
      "9684                      0.0          0.0             0.0               0.0  \n",
      "\n",
      "[9531 rows x 95 columns]\n"
     ]
    }
   ],
   "source": [
    "basket = bakery.groupby(['Transaction', 'Item'])['Set_bit'].sum().unstack().fillna(0)\n",
    "print(basket)"
   ]
  },
  {
   "cell_type": "code",
   "execution_count": 13,
   "metadata": {},
   "outputs": [
    {
     "name": "stdout",
     "output_type": "stream",
     "text": [
      "Item         Adjustment  Afternoon with the baker  Alfajores  Argentina Night  \\\n",
      "Transaction                                                                     \n",
      "1                     0                         0          0                0   \n",
      "2                     0                         0          0                0   \n",
      "3                     0                         0          0                0   \n",
      "4                     0                         0          0                0   \n",
      "5                     0                         0          0                0   \n",
      "...                 ...                       ...        ...              ...   \n",
      "9680                  0                         0          0                0   \n",
      "9681                  0                         0          0                0   \n",
      "9682                  0                         0          0                0   \n",
      "9683                  0                         0          0                0   \n",
      "9684                  0                         0          0                0   \n",
      "\n",
      "Item         Art Tray  Bacon  Baguette  Bakewell  Bare Popcorn  Basket  ...  \\\n",
      "Transaction                                                             ...   \n",
      "1                   0      0         0         0             0       0  ...   \n",
      "2                   0      0         0         0             0       0  ...   \n",
      "3                   0      0         0         0             0       0  ...   \n",
      "4                   0      0         0         0             0       0  ...   \n",
      "5                   0      0         0         0             0       0  ...   \n",
      "...               ...    ...       ...       ...           ...     ...  ...   \n",
      "9680                0      0         0         0             0       0  ...   \n",
      "9681                0      0         0         0             0       0  ...   \n",
      "9682                0      0         0         0             0       0  ...   \n",
      "9683                0      0         0         0             0       0  ...   \n",
      "9684                0      0         0         0             0       0  ...   \n",
      "\n",
      "Item         The BART  The Nomad  Tiffin  Toast  Truffles  Tshirt  \\\n",
      "Transaction                                                         \n",
      "1                   0          0       0      0         0       0   \n",
      "2                   0          0       0      0         0       0   \n",
      "3                   0          0       0      0         0       0   \n",
      "4                   0          0       0      0         0       0   \n",
      "5                   0          0       0      0         0       0   \n",
      "...               ...        ...     ...    ...       ...     ...   \n",
      "9680                0          0       0      0         0       0   \n",
      "9681                0          0       0      0         1       0   \n",
      "9682                0          0       0      0         0       0   \n",
      "9683                0          0       0      0         0       0   \n",
      "9684                0          0       0      0         0       0   \n",
      "\n",
      "Item         Valentine's card  Vegan Feast  Vegan mincepie  Victorian Sponge  \n",
      "Transaction                                                                   \n",
      "1                           0            0               0                 0  \n",
      "2                           0            0               0                 0  \n",
      "3                           0            0               0                 0  \n",
      "4                           0            0               0                 0  \n",
      "5                           0            0               0                 0  \n",
      "...                       ...          ...             ...               ...  \n",
      "9680                        0            0               0                 0  \n",
      "9681                        0            0               0                 0  \n",
      "9682                        0            0               0                 0  \n",
      "9683                        0            0               0                 0  \n",
      "9684                        0            0               0                 0  \n",
      "\n",
      "[9531 rows x 95 columns]\n"
     ]
    }
   ],
   "source": [
    "def one_not_code_units(x):\n",
    "    if x <= 0:\n",
    "        return 0\n",
    "    if x >= 1:\n",
    "        return 1\n",
    "\n",
    "basket_sets = basket.applymap(one_not_code_units)\n",
    "\n",
    "print(basket_sets)"
   ]
  },
  {
   "cell_type": "code",
   "execution_count": 12,
   "metadata": {},
   "outputs": [
    {
     "name": "stdout",
     "output_type": "stream",
     "text": [
      "     support         itemsets\n",
      "0   0.324940          (Bread)\n",
      "1   0.103137           (Cake)\n",
      "2   0.475081         (Coffee)\n",
      "3   0.054034        (Cookies)\n",
      "4   0.057916  (Hot chocolate)\n",
      "5   0.061379      (Medialuna)\n",
      "6   0.079005           (NONE)\n",
      "7   0.085510         (Pastry)\n",
      "8   0.071346       (Sandwich)\n",
      "9   0.141643            (Tea)\n",
      "10  0.089393  (Bread, Coffee)\n",
      "11  0.054349   (Cake, Coffee)\n"
     ]
    }
   ],
   "source": [
    "frequent_itemsets = apriori(basket_sets,min_support=0.05,  use_colnames=True)\n",
    "print(frequent_itemsets)\n"
   ]
  },
  {
   "cell_type": "code",
   "execution_count": null,
   "metadata": {},
   "outputs": [],
   "source": []
  }
 ],
 "metadata": {
  "kernelspec": {
   "display_name": "Python 3",
   "language": "python",
   "name": "python3"
  },
  "language_info": {
   "codemirror_mode": {
    "name": "ipython",
    "version": 3
   },
   "file_extension": ".py",
   "mimetype": "text/x-python",
   "name": "python",
   "nbconvert_exporter": "python",
   "pygments_lexer": "ipython3",
   "version": "3.6.5"
  }
 },
 "nbformat": 4,
 "nbformat_minor": 4
}
